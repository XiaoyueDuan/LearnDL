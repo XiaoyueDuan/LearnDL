{
 "cells": [
  {
   "cell_type": "markdown",
   "metadata": {},
   "source": [
    "## 调用Vgg16识别猫猫和狗狗的照片\n",
    "\n",
    "*照片来源于Kaggle*"
   ]
  },
  {
   "cell_type": "markdown",
   "metadata": {},
   "source": [
    "### 直接调用Keras自带的vgg16，对猫咪和狗狗图片进行分类"
   ]
  },
  {
   "cell_type": "code",
   "execution_count": 1,
   "metadata": {
    "collapsed": true
   },
   "outputs": [],
   "source": [
    "% matplotlib inline"
   ]
  },
  {
   "cell_type": "code",
   "execution_count": 2,
   "metadata": {
    "collapsed": true
   },
   "outputs": [],
   "source": [
    "path='mini_dogscats/'"
   ]
  },
  {
   "cell_type": "code",
   "execution_count": 3,
   "metadata": {},
   "outputs": [
    {
     "name": "stderr",
     "output_type": "stream",
     "text": [
      "Using TensorFlow backend.\n"
     ]
    }
   ],
   "source": [
    "from keras.applications.vgg16 import VGG16"
   ]
  },
  {
   "cell_type": "code",
   "execution_count": 4,
   "metadata": {
    "collapsed": true
   },
   "outputs": [],
   "source": [
    "from keras.utils.data_utils import get_file"
   ]
  },
  {
   "cell_type": "code",
   "execution_count": 5,
   "metadata": {},
   "outputs": [],
   "source": [
    "image_shape=(48,48)\n",
    "batch_size=64\n",
    "channel=3\n",
    "vgg=VGG16(weights=None, input_shape=(image_shape[0], image_shape[1], channel), classes=2)"
   ]
  },
  {
   "cell_type": "code",
   "execution_count": 6,
   "metadata": {},
   "outputs": [],
   "source": [
    "from keras.preprocessing import image"
   ]
  },
  {
   "cell_type": "code",
   "execution_count": 15,
   "metadata": {},
   "outputs": [
    {
     "name": "stdout",
     "output_type": "stream",
     "text": [
      "Found 128 images belonging to 2 classes.\n",
      "Found 32 images belonging to 2 classes.\n"
     ]
    }
   ],
   "source": [
    "gen=image.ImageDataGenerator()\n",
    "train_batch=gen.flow_from_directory(path+'train', target_size=image_shape, batch_size=1)\n",
    "valid_batch=gen.flow_from_directory(path+'valid', target_size=image_shape, batch_size=1)"
   ]
  },
  {
   "cell_type": "markdown",
   "metadata": {},
   "source": [
    "### 获取1000种类的名字"
   ]
  },
  {
   "cell_type": "code",
   "execution_count": 8,
   "metadata": {},
   "outputs": [],
   "source": [
    "FILE_PATH='http://files.fast.ai/models/'\n",
    "fname='imagenet_class_index.json'\n",
    "fpath= get_file(fname, FILE_PATH+fname, cache_subdir='models')"
   ]
  },
  {
   "cell_type": "code",
   "execution_count": 9,
   "metadata": {},
   "outputs": [
    {
     "name": "stdout",
     "output_type": "stream",
     "text": [
      "C:\\Users\\Administrator\\.keras\\models\\imagenet_class_index.json\n"
     ]
    }
   ],
   "source": [
    "print(fpath)"
   ]
  },
  {
   "cell_type": "code",
   "execution_count": 10,
   "metadata": {
    "collapsed": true
   },
   "outputs": [],
   "source": [
    "import json\n",
    "with open(fpath) as f:\n",
    "    class_dict=json.load(f)\n",
    "classes=[class_dict[str(i)][1] for i in range(len(class_dict))]"
   ]
  },
  {
   "cell_type": "code",
   "execution_count": 11,
   "metadata": {},
   "outputs": [
    {
     "data": {
      "text/plain": [
       "['tench', 'goldfish', 'great_white_shark', 'tiger_shark', 'hammerhead']"
      ]
     },
     "execution_count": 11,
     "metadata": {},
     "output_type": "execute_result"
    }
   ],
   "source": [
    "classes[:5]"
   ]
  },
  {
   "cell_type": "markdown",
   "metadata": {},
   "source": [
    "## 训练"
   ]
  },
  {
   "cell_type": "code",
   "execution_count": 12,
   "metadata": {},
   "outputs": [],
   "source": [
    "from keras.optimizers import Adam\n",
    "vgg.compile(optimizer=Adam(lr=0.001), loss='categorical_crossentropy', metrics=['accuracy'])"
   ]
  },
  {
   "cell_type": "code",
   "execution_count": 16,
   "metadata": {},
   "outputs": [
    {
     "data": {
      "text/plain": [
       "(48, 48, 3)"
      ]
     },
     "execution_count": 16,
     "metadata": {},
     "output_type": "execute_result"
    }
   ],
   "source": [
    "train_batch.image_shape"
   ]
  },
  {
   "cell_type": "code",
   "execution_count": 17,
   "metadata": {},
   "outputs": [
    {
     "data": {
      "text/plain": [
       "128"
      ]
     },
     "execution_count": 17,
     "metadata": {},
     "output_type": "execute_result"
    }
   ],
   "source": [
    "train_batch.samples"
   ]
  },
  {
   "cell_type": "code",
   "execution_count": 19,
   "metadata": {},
   "outputs": [
    {
     "name": "stdout",
     "output_type": "stream",
     "text": [
      "Epoch 1/100\n",
      "128/128 [==============================] - 6s - loss: 7.9331 - acc: 0.5078 - val_loss: 8.0590 - val_acc: 0.5000\n",
      "Epoch 2/100\n",
      "128/128 [==============================] - 6s - loss: 8.0590 - acc: 0.5000 - val_loss: 7.0517 - val_acc: 0.5625\n",
      "Epoch 3/100\n",
      "128/128 [==============================] - 6s - loss: 7.9331 - acc: 0.5078 - val_loss: 9.0664 - val_acc: 0.4375\n",
      "Epoch 4/100\n",
      "128/128 [==============================] - 6s - loss: 8.1850 - acc: 0.4922 - val_loss: 8.0590 - val_acc: 0.5000\n",
      "Epoch 5/100\n",
      "128/128 [==============================] - 6s - loss: 8.3109 - acc: 0.4844 - val_loss: 9.5701 - val_acc: 0.4062\n",
      "Epoch 6/100\n",
      "128/128 [==============================] - 6s - loss: 7.9331 - acc: 0.5078 - val_loss: 6.0443 - val_acc: 0.6250\n",
      "Epoch 7/100\n",
      "128/128 [==============================] - 6s - loss: 7.9331 - acc: 0.5078 - val_loss: 8.5627 - val_acc: 0.4688\n",
      "Epoch 8/100\n",
      "128/128 [==============================] - 6s - loss: 7.9331 - acc: 0.5078 - val_loss: 8.0590 - val_acc: 0.5000\n",
      "Epoch 9/100\n",
      "128/128 [==============================] - 6s - loss: 8.3109 - acc: 0.4844 - val_loss: 8.0590 - val_acc: 0.5000\n",
      "Epoch 10/100\n",
      "128/128 [==============================] - 6s - loss: 8.1850 - acc: 0.4922 - val_loss: 8.0590 - val_acc: 0.5000\n",
      "Epoch 11/100\n",
      "128/128 [==============================] - 7s - loss: 7.5554 - acc: 0.5312 - val_loss: 8.5627 - val_acc: 0.4688\n",
      "Epoch 12/100\n",
      "128/128 [==============================] - 6s - loss: 8.6887 - acc: 0.4609 - val_loss: 8.5627 - val_acc: 0.4688\n",
      "Epoch 13/100\n",
      "128/128 [==============================] - 6s - loss: 7.8072 - acc: 0.5156 - val_loss: 8.0590 - val_acc: 0.5000\n",
      "Epoch 14/100\n",
      "128/128 [==============================] - 6s - loss: 8.3109 - acc: 0.4844 - val_loss: 8.0590 - val_acc: 0.5000\n",
      "Epoch 15/100\n",
      "128/128 [==============================] - 6s - loss: 7.8072 - acc: 0.5156 - val_loss: 10.0738 - val_acc: 0.3750\n",
      "Epoch 16/100\n",
      "128/128 [==============================] - 6s - loss: 8.1850 - acc: 0.4922 - val_loss: 8.5627 - val_acc: 0.4688\n",
      "Epoch 17/100\n",
      "128/128 [==============================] - 6s - loss: 7.9331 - acc: 0.5078 - val_loss: 7.5554 - val_acc: 0.5312\n",
      "Epoch 18/100\n",
      "128/128 [==============================] - 6s - loss: 8.1850 - acc: 0.4922 - val_loss: 8.5627 - val_acc: 0.4688\n",
      "Epoch 19/100\n",
      "128/128 [==============================] - 6s - loss: 7.6813 - acc: 0.5234 - val_loss: 8.5627 - val_acc: 0.4688\n",
      "Epoch 20/100\n",
      "128/128 [==============================] - 7s - loss: 8.5627 - acc: 0.4688 - val_loss: 8.0590 - val_acc: 0.5000\n",
      "Epoch 21/100\n",
      "128/128 [==============================] - 6s - loss: 7.8072 - acc: 0.5156 - val_loss: 8.0590 - val_acc: 0.5000\n",
      "Epoch 22/100\n",
      "128/128 [==============================] - 6s - loss: 7.9331 - acc: 0.5078 - val_loss: 7.5554 - val_acc: 0.5312\n",
      "Epoch 23/100\n",
      "128/128 [==============================] - 6s - loss: 8.1850 - acc: 0.4922 - val_loss: 9.0664 - val_acc: 0.4375\n",
      "Epoch 24/100\n",
      "128/128 [==============================] - 6s - loss: 7.8072 - acc: 0.5156 - val_loss: 8.5627 - val_acc: 0.4688\n",
      "Epoch 25/100\n",
      "128/128 [==============================] - 6s - loss: 8.4368 - acc: 0.4766 - val_loss: 7.5554 - val_acc: 0.5312\n",
      "Epoch 26/100\n",
      "128/128 [==============================] - 7s - loss: 7.8072 - acc: 0.5156 - val_loss: 8.0590 - val_acc: 0.5000\n",
      "Epoch 27/100\n",
      "128/128 [==============================] - 6s - loss: 8.3109 - acc: 0.4844 - val_loss: 7.5554 - val_acc: 0.5312\n",
      "Epoch 28/100\n",
      "128/128 [==============================] - 6s - loss: 8.0590 - acc: 0.5000 - val_loss: 9.0664 - val_acc: 0.4375\n",
      "Epoch 29/100\n",
      "128/128 [==============================] - 6s - loss: 7.8072 - acc: 0.5156 - val_loss: 6.5480 - val_acc: 0.5938\n",
      "Epoch 30/100\n",
      "128/128 [==============================] - 6s - loss: 8.3109 - acc: 0.4844 - val_loss: 8.0590 - val_acc: 0.5000\n",
      "Epoch 31/100\n",
      "128/128 [==============================] - 6s - loss: 8.0590 - acc: 0.5000 - val_loss: 8.0590 - val_acc: 0.5000\n",
      "Epoch 32/100\n",
      "128/128 [==============================] - 6s - loss: 7.9331 - acc: 0.5078 - val_loss: 8.5627 - val_acc: 0.4688\n",
      "Epoch 33/100\n",
      "128/128 [==============================] - 6s - loss: 7.9331 - acc: 0.5078 - val_loss: 7.5554 - val_acc: 0.5312\n",
      "Epoch 34/100\n",
      "128/128 [==============================] - 6s - loss: 8.5627 - acc: 0.4688 - val_loss: 8.5627 - val_acc: 0.4688\n",
      "Epoch 35/100\n",
      "128/128 [==============================] - 6s - loss: 7.8072 - acc: 0.5156 - val_loss: 7.5554 - val_acc: 0.5312\n",
      "Epoch 36/100\n",
      "128/128 [==============================] - 6s - loss: 8.3109 - acc: 0.4844 - val_loss: 9.5701 - val_acc: 0.4062\n",
      "Epoch 37/100\n",
      "128/128 [==============================] - 6s - loss: 7.8072 - acc: 0.5156 - val_loss: 8.0590 - val_acc: 0.5000\n",
      "Epoch 38/100\n",
      "128/128 [==============================] - 6s - loss: 7.9331 - acc: 0.5078 - val_loss: 8.0590 - val_acc: 0.5000\n",
      "Epoch 39/100\n",
      "128/128 [==============================] - 6s - loss: 8.0590 - acc: 0.5000 - val_loss: 9.5701 - val_acc: 0.4062\n",
      "Epoch 40/100\n",
      "128/128 [==============================] - 6s - loss: 8.1850 - acc: 0.4922 - val_loss: 7.0517 - val_acc: 0.5625\n",
      "Epoch 41/100\n",
      "128/128 [==============================] - 6s - loss: 7.6813 - acc: 0.5234 - val_loss: 8.0590 - val_acc: 0.5000\n",
      "Epoch 42/100\n",
      "128/128 [==============================] - 6s - loss: 8.1850 - acc: 0.4922 - val_loss: 8.0590 - val_acc: 0.5000\n",
      "Epoch 43/100\n",
      "128/128 [==============================] - 6s - loss: 8.4368 - acc: 0.4766 - val_loss: 8.5627 - val_acc: 0.4688\n",
      "Epoch 44/100\n",
      "128/128 [==============================] - 6s - loss: 7.6813 - acc: 0.5234 - val_loss: 7.5554 - val_acc: 0.5312\n",
      "Epoch 45/100\n",
      "128/128 [==============================] - 6s - loss: 8.4368 - acc: 0.4766 - val_loss: 8.0590 - val_acc: 0.5000\n",
      "Epoch 46/100\n",
      "128/128 [==============================] - 6s - loss: 7.6813 - acc: 0.5234 - val_loss: 7.5554 - val_acc: 0.5312\n",
      "Epoch 47/100\n",
      "128/128 [==============================] - 6s - loss: 8.1850 - acc: 0.4922 - val_loss: 9.5701 - val_acc: 0.4062\n",
      "Epoch 48/100\n",
      "128/128 [==============================] - 6s - loss: 7.9331 - acc: 0.5078 - val_loss: 8.0590 - val_acc: 0.5000\n",
      "Epoch 49/100\n",
      "128/128 [==============================] - 6s - loss: 8.3109 - acc: 0.4844 - val_loss: 8.5627 - val_acc: 0.4688\n",
      "Epoch 50/100\n",
      "128/128 [==============================] - 6s - loss: 7.4294 - acc: 0.5391 - val_loss: 9.0664 - val_acc: 0.4375\n",
      "Epoch 51/100\n",
      "128/128 [==============================] - 6s - loss: 8.4368 - acc: 0.4766 - val_loss: 8.0590 - val_acc: 0.5000\n",
      "Epoch 52/100\n",
      "128/128 [==============================] - 6s - loss: 8.3109 - acc: 0.4844 - val_loss: 7.5554 - val_acc: 0.5312\n",
      "Epoch 53/100\n",
      "128/128 [==============================] - 6s - loss: 8.1850 - acc: 0.4922 - val_loss: 7.5554 - val_acc: 0.5312\n",
      "Epoch 54/100\n",
      "128/128 [==============================] - 6s - loss: 7.8072 - acc: 0.5156 - val_loss: 7.5554 - val_acc: 0.5312\n",
      "Epoch 55/100\n",
      "128/128 [==============================] - 6s - loss: 7.9331 - acc: 0.5078 - val_loss: 7.0517 - val_acc: 0.5625\n",
      "Epoch 56/100\n",
      "128/128 [==============================] - 6s - loss: 8.1850 - acc: 0.4922 - val_loss: 8.0590 - val_acc: 0.5000\n",
      "Epoch 57/100\n",
      "128/128 [==============================] - 6s - loss: 7.9331 - acc: 0.5078 - val_loss: 8.5627 - val_acc: 0.4688\n",
      "Epoch 58/100\n",
      "128/128 [==============================] - 6s - loss: 8.5627 - acc: 0.4688 - val_loss: 8.0590 - val_acc: 0.5000\n",
      "Epoch 59/100\n",
      "128/128 [==============================] - 6s - loss: 7.4294 - acc: 0.5391 - val_loss: 8.5627 - val_acc: 0.4688\n",
      "Epoch 60/100\n",
      "128/128 [==============================] - 6s - loss: 8.6887 - acc: 0.4609 - val_loss: 8.5627 - val_acc: 0.4688\n",
      "Epoch 61/100\n",
      "128/128 [==============================] - 6s - loss: 7.6813 - acc: 0.5234 - val_loss: 8.5627 - val_acc: 0.4688\n",
      "Epoch 62/100\n",
      "128/128 [==============================] - 6s - loss: 8.0590 - acc: 0.5000 - val_loss: 7.5554 - val_acc: 0.5312\n",
      "Epoch 63/100\n",
      "128/128 [==============================] - 6s - loss: 8.0590 - acc: 0.5000 - val_loss: 11.0812 - val_acc: 0.3125\n",
      "Epoch 64/100\n",
      "128/128 [==============================] - 6s - loss: 8.1850 - acc: 0.4922 - val_loss: 7.5554 - val_acc: 0.5312\n",
      "Epoch 65/100\n",
      "128/128 [==============================] - 6s - loss: 7.8072 - acc: 0.5156 - val_loss: 9.0664 - val_acc: 0.4375\n",
      "Epoch 66/100\n"
     ]
    },
    {
     "name": "stdout",
     "output_type": "stream",
     "text": [
      "128/128 [==============================] - 6s - loss: 8.5627 - acc: 0.4688 - val_loss: 6.5480 - val_acc: 0.5938\n",
      "Epoch 67/100\n",
      "128/128 [==============================] - 6s - loss: 7.6813 - acc: 0.5234 - val_loss: 7.0517 - val_acc: 0.5625\n",
      "Epoch 68/100\n",
      "128/128 [==============================] - 6s - loss: 8.1850 - acc: 0.4922 - val_loss: 7.0517 - val_acc: 0.5625\n",
      "Epoch 69/100\n",
      "128/128 [==============================] - 6s - loss: 7.8072 - acc: 0.5156 - val_loss: 9.5701 - val_acc: 0.4062\n",
      "Epoch 70/100\n",
      "128/128 [==============================] - 6s - loss: 8.0590 - acc: 0.5000 - val_loss: 7.0517 - val_acc: 0.5625\n",
      "Epoch 71/100\n",
      "128/128 [==============================] - 6s - loss: 7.9331 - acc: 0.5078 - val_loss: 8.0590 - val_acc: 0.5000\n",
      "Epoch 72/100\n",
      "128/128 [==============================] - 6s - loss: 8.0590 - acc: 0.5000 - val_loss: 7.5554 - val_acc: 0.5312\n",
      "Epoch 73/100\n",
      "128/128 [==============================] - 6s - loss: 8.5627 - acc: 0.4688 - val_loss: 7.5554 - val_acc: 0.5312\n",
      "Epoch 74/100\n",
      "128/128 [==============================] - 6s - loss: 7.9331 - acc: 0.5078 - val_loss: 8.5627 - val_acc: 0.4688\n",
      "Epoch 75/100\n",
      "128/128 [==============================] - 6s - loss: 8.0590 - acc: 0.5000 - val_loss: 8.0590 - val_acc: 0.5000\n",
      "Epoch 76/100\n",
      "128/128 [==============================] - 7s - loss: 7.9331 - acc: 0.5078 - val_loss: 8.5627 - val_acc: 0.4688\n",
      "Epoch 77/100\n",
      "128/128 [==============================] - 6s - loss: 7.9331 - acc: 0.5078 - val_loss: 7.5554 - val_acc: 0.5312\n",
      "Epoch 78/100\n",
      "128/128 [==============================] - 6s - loss: 8.1850 - acc: 0.4922 - val_loss: 7.5554 - val_acc: 0.5312\n",
      "Epoch 79/100\n",
      "128/128 [==============================] - 6s - loss: 8.3109 - acc: 0.4844 - val_loss: 7.5554 - val_acc: 0.5312\n",
      "Epoch 80/100\n",
      "128/128 [==============================] - 6s - loss: 7.9331 - acc: 0.5078 - val_loss: 8.5627 - val_acc: 0.4688\n",
      "Epoch 81/100\n",
      "128/128 [==============================] - 6s - loss: 8.0590 - acc: 0.5000 - val_loss: 8.0590 - val_acc: 0.5000\n",
      "Epoch 82/100\n",
      "128/128 [==============================] - 6s - loss: 8.0590 - acc: 0.5000 - val_loss: 9.0664 - val_acc: 0.4375\n",
      "Epoch 83/100\n",
      "128/128 [==============================] - 6s - loss: 7.8072 - acc: 0.5156 - val_loss: 7.0517 - val_acc: 0.5625\n",
      "Epoch 84/100\n",
      "128/128 [==============================] - 6s - loss: 8.1850 - acc: 0.4922 - val_loss: 7.5554 - val_acc: 0.5312\n",
      "Epoch 85/100\n",
      "128/128 [==============================] - 6s - loss: 8.0590 - acc: 0.5000 - val_loss: 8.0590 - val_acc: 0.5000\n",
      "Epoch 86/100\n",
      "128/128 [==============================] - 6s - loss: 8.1850 - acc: 0.4922 - val_loss: 8.0590 - val_acc: 0.5000\n",
      "Epoch 87/100\n",
      "128/128 [==============================] - 6s - loss: 8.0590 - acc: 0.5000 - val_loss: 8.0590 - val_acc: 0.5000\n",
      "Epoch 88/100\n",
      "128/128 [==============================] - 7s - loss: 7.9331 - acc: 0.5078 - val_loss: 7.0517 - val_acc: 0.5625\n",
      "Epoch 89/100\n",
      "128/128 [==============================] - 6s - loss: 7.9331 - acc: 0.5078 - val_loss: 8.5627 - val_acc: 0.4688\n",
      "Epoch 90/100\n",
      "128/128 [==============================] - 6s - loss: 8.0590 - acc: 0.5000 - val_loss: 7.5554 - val_acc: 0.5312\n",
      "Epoch 91/100\n",
      "128/128 [==============================] - 6s - loss: 8.1850 - acc: 0.4922 - val_loss: 8.0590 - val_acc: 0.5000\n",
      "Epoch 92/100\n",
      "128/128 [==============================] - 6s - loss: 8.0590 - acc: 0.5000 - val_loss: 9.0664 - val_acc: 0.4375\n",
      "Epoch 93/100\n",
      "128/128 [==============================] - 6s - loss: 7.8072 - acc: 0.5156 - val_loss: 7.5554 - val_acc: 0.5312\n",
      "Epoch 94/100\n",
      "128/128 [==============================] - 6s - loss: 8.1850 - acc: 0.4922 - val_loss: 8.0590 - val_acc: 0.5000\n",
      "Epoch 95/100\n",
      "128/128 [==============================] - 6s - loss: 8.1850 - acc: 0.4922 - val_loss: 9.5701 - val_acc: 0.4062\n",
      "Epoch 96/100\n",
      "128/128 [==============================] - 6s - loss: 8.1850 - acc: 0.4922 - val_loss: 7.0517 - val_acc: 0.5625\n",
      "Epoch 97/100\n",
      "128/128 [==============================] - 6s - loss: 7.9331 - acc: 0.5078 - val_loss: 8.5627 - val_acc: 0.4688\n",
      "Epoch 98/100\n",
      "128/128 [==============================] - 6s - loss: 8.0590 - acc: 0.5000 - val_loss: 6.5480 - val_acc: 0.5938\n",
      "Epoch 99/100\n",
      "128/128 [==============================] - 6s - loss: 7.6813 - acc: 0.5234 - val_loss: 9.5701 - val_acc: 0.4062\n",
      "Epoch 100/100\n",
      "128/128 [==============================] - 6s - loss: 8.6887 - acc: 0.4609 - val_loss: 7.0517 - val_acc: 0.5625\n"
     ]
    },
    {
     "data": {
      "text/plain": [
       "<keras.callbacks.History at 0x23758a58>"
      ]
     },
     "execution_count": 19,
     "metadata": {},
     "output_type": "execute_result"
    }
   ],
   "source": [
    "epochs=100\n",
    "vgg.fit_generator(train_batch, steps_per_epoch=train_batch.samples, epochs=epochs, \n",
    "                  validation_data=valid_batch, validation_steps=valid_batch.samples)"
   ]
  },
  {
   "cell_type": "code",
   "execution_count": null,
   "metadata": {
    "collapsed": true
   },
   "outputs": [],
   "source": []
  }
 ],
 "metadata": {
  "kernelspec": {
   "display_name": "Python 3",
   "language": "python",
   "name": "python3"
  },
  "language_info": {
   "codemirror_mode": {
    "name": "ipython",
    "version": 3
   },
   "file_extension": ".py",
   "mimetype": "text/x-python",
   "name": "python",
   "nbconvert_exporter": "python",
   "pygments_lexer": "ipython3",
   "version": "3.6.1"
  }
 },
 "nbformat": 4,
 "nbformat_minor": 2
}
